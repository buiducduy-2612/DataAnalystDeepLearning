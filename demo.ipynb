{
  "nbformat": 4,
  "nbformat_minor": 0,
  "metadata": {
    "colab": {
      "name": "Untitled0.ipynb",
      "provenance": [],
      "include_colab_link": true
    },
    "kernelspec": {
      "name": "python3",
      "display_name": "Python 3"
    },
    "language_info": {
      "name": "python"
    }
  },
  "cells": [
    {
      "cell_type": "markdown",
      "metadata": {
        "id": "view-in-github",
        "colab_type": "text"
      },
      "source": [
        "<a href=\"https://colab.research.google.com/github/ducduy2612-20/DataAnalystDeepLearning/blob/main/demo.ipynb\" target=\"_parent\"><img src=\"https://colab.research.google.com/assets/colab-badge.svg\" alt=\"Open In Colab\"/></a>"
      ]
    },
    {
      "cell_type": "markdown",
      "metadata": {
        "id": "gjBVorZWmHaL"
      },
      "source": [
        "# **CÂU 1**"
      ]
    },
    {
      "cell_type": "markdown",
      "metadata": {
        "id": "HmlUniMWHkxO"
      },
      "source": [
        "\n",
        "a) Tao DataFrame từ dữ liệu và index cho sẵn \n",
        "Data=(...........}\n",
        "Df=pd.DataFrame(data,index=....)"
      ]
    },
    {
      "cell_type": "code",
      "metadata": {
        "colab": {
          "base_uri": "https://localhost:8080/"
        },
        "id": "qsVP68IeHGLA",
        "outputId": "66b9abcf-3333-4e15-badc-512355a23a97"
      },
      "source": [
        "import pandas as pd\n",
        "data2 = {\"Tên\": [\"Duy\" , \"Đức\", \"Bùi\",\"Long\",\"Dung\",\"Nobi\",\"Chuyền\",\"Nguyên\"],\n",
        "         \"Tuổi\": [20,15,20,25,30,00,22,33],\"Điểm\":[10,None,9,8,7,6,None,None]}\n",
        "df2 = pd.DataFrame(data2)\n",
        "print(df2)"
      ],
      "execution_count": 8,
      "outputs": [
        {
          "output_type": "stream",
          "name": "stdout",
          "text": [
            "      Tên  Tuổi  Điểm\n",
            "0     Duy    20  10.0\n",
            "1     Đức    15   NaN\n",
            "2     Bùi    20   9.0\n",
            "3    Long    25   8.0\n",
            "4    Dung    30   7.0\n",
            "5    Nobi     0   6.0\n",
            "6  Chuyền    22   NaN\n",
            "7  Nguyên    33   NaN\n"
          ]
        }
      ]
    },
    {
      "cell_type": "markdown",
      "metadata": {
        "id": "SCNTN-MKIZVI"
      },
      "source": [
        "b) Lấy ra n dòng đầu tiên của DataFrame"
      ]
    },
    {
      "cell_type": "code",
      "metadata": {
        "colab": {
          "base_uri": "https://localhost:8080/"
        },
        "id": "AfvDGN-EIYkZ",
        "outputId": "85333167-6c2c-4332-eb09-69641dd01608"
      },
      "source": [
        "#B) IN N DÒNG ĐẦU TIÊN\n",
        "print(df2.head(8))"
      ],
      "execution_count": 9,
      "outputs": [
        {
          "output_type": "stream",
          "name": "stdout",
          "text": [
            "      Tên  Tuổi  Điểm\n",
            "0     Duy    20  10.0\n",
            "1     Đức    15   NaN\n",
            "2     Bùi    20   9.0\n",
            "3    Long    25   8.0\n",
            "4    Dung    30   7.0\n",
            "5    Nobi     0   6.0\n",
            "6  Chuyền    22   NaN\n",
            "7  Nguyên    33   NaN\n"
          ]
        }
      ]
    },
    {
      "cell_type": "markdown",
      "metadata": {
        "id": "Gjln6ozsIuKH"
      },
      "source": [
        "c) Chọn ra các dòng có cột nào đó thỏa điều nào đó (2 điều kiện cho 2 cột) Ví dụ: df [df[‘cột 1’]>5 & df[‘cột2'k< 10], df là DataFrame gồm tất cả các cột"
      ]
    },
    {
      "cell_type": "code",
      "metadata": {
        "colab": {
          "base_uri": "https://localhost:8080/"
        },
        "id": "V11JLMoUIuiu",
        "outputId": "fda9046a-b580-4bce-dde6-5d05ad894b72"
      },
      "source": [
        "#C) LỌC ĐIỀU KIỆN\n",
        "# Cú pháp: df.loc[(df[\"DK1\"]) &  (df[\"DK2\"]) ]\n",
        "print(   df2.loc[(df2[\"Điểm\"] <= 8) & (df2[\"Tuổi\"] <= 7) ]  )"
      ],
      "execution_count": 11,
      "outputs": [
        {
          "output_type": "stream",
          "name": "stdout",
          "text": [
            "    Tên  Tuổi  Điểm\n",
            "5  Nobi     0   6.0\n"
          ]
        }
      ]
    },
    {
      "cell_type": "markdown",
      "metadata": {
        "id": "FRMUz1sGIvIJ"
      },
      "source": [
        "d)Chọn ra các dòng có cột nào đó còn trống\n"
      ]
    },
    {
      "cell_type": "code",
      "metadata": {
        "colab": {
          "base_uri": "https://localhost:8080/",
          "height": 143
        },
        "id": "UiTjSkDzIvub",
        "outputId": "b334c3d3-5832-4898-8299-4834f23ea1e2"
      },
      "source": [
        "#D) TÌM GIÁ TRỊ NULL\n",
        "df2[df2['Điểm'].isnull()]"
      ],
      "execution_count": 12,
      "outputs": [
        {
          "output_type": "execute_result",
          "data": {
            "text/html": [
              "<div>\n",
              "<style scoped>\n",
              "    .dataframe tbody tr th:only-of-type {\n",
              "        vertical-align: middle;\n",
              "    }\n",
              "\n",
              "    .dataframe tbody tr th {\n",
              "        vertical-align: top;\n",
              "    }\n",
              "\n",
              "    .dataframe thead th {\n",
              "        text-align: right;\n",
              "    }\n",
              "</style>\n",
              "<table border=\"1\" class=\"dataframe\">\n",
              "  <thead>\n",
              "    <tr style=\"text-align: right;\">\n",
              "      <th></th>\n",
              "      <th>Tên</th>\n",
              "      <th>Tuổi</th>\n",
              "      <th>Điểm</th>\n",
              "    </tr>\n",
              "  </thead>\n",
              "  <tbody>\n",
              "    <tr>\n",
              "      <th>1</th>\n",
              "      <td>Đức</td>\n",
              "      <td>15</td>\n",
              "      <td>NaN</td>\n",
              "    </tr>\n",
              "    <tr>\n",
              "      <th>6</th>\n",
              "      <td>Chuyền</td>\n",
              "      <td>22</td>\n",
              "      <td>NaN</td>\n",
              "    </tr>\n",
              "    <tr>\n",
              "      <th>7</th>\n",
              "      <td>Nguyên</td>\n",
              "      <td>33</td>\n",
              "      <td>NaN</td>\n",
              "    </tr>\n",
              "  </tbody>\n",
              "</table>\n",
              "</div>"
            ],
            "text/plain": [
              "      Tên  Tuổi  Điểm\n",
              "1     Đức    15   NaN\n",
              "6  Chuyền    22   NaN\n",
              "7  Nguyên    33   NaN"
            ]
          },
          "metadata": {},
          "execution_count": 12
        }
      ]
    },
    {
      "cell_type": "markdown",
      "metadata": {
        "id": "wVohRI2-I7pV"
      },
      "source": [
        "e) Thay thế giá trị ở cột nào đó: ví dụ A thành bằng…, B thay bằng gì đó (dùng map để thay thế, xem lab4)\n"
      ]
    },
    {
      "cell_type": "code",
      "metadata": {
        "id": "8wXLHgauI8Nt",
        "colab": {
          "base_uri": "https://localhost:8080/"
        },
        "outputId": "e9222b2d-9bf9-4938-9ee2-b758b3d60cf9"
      },
      "source": [
        "#E THAY THẾ \n",
        "# CÚ PHÁP: df[\"Tên cột muốn lọc\"].replace({giá cũ1: giá mới1,giá cũ2: giá mới2 } ,inplace=True )\n",
        "df2['Điểm'].replace({10:9,9:0},inplace=True)\n",
        "print(df2)"
      ],
      "execution_count": 13,
      "outputs": [
        {
          "output_type": "stream",
          "name": "stdout",
          "text": [
            "      Tên  Tuổi  Điểm\n",
            "0     Duy    20   9.0\n",
            "1     Đức    15   NaN\n",
            "2     Bùi    20   0.0\n",
            "3    Long    25   8.0\n",
            "4    Dung    30   7.0\n",
            "5    Nobi     0   6.0\n",
            "6  Chuyền    22   NaN\n",
            "7  Nguyên    33   NaN\n"
          ]
        }
      ]
    },
    {
      "cell_type": "markdown",
      "metadata": {
        "id": "5JCP9IxlJXe0"
      },
      "source": [
        "f) xóa cột"
      ]
    },
    {
      "cell_type": "code",
      "metadata": {
        "id": "T1Ojh8reLChT",
        "colab": {
          "base_uri": "https://localhost:8080/"
        },
        "outputId": "45d6a214-001c-4a76-cbe4-89b33483dea6"
      },
      "source": [
        "# F)  xóa cột \n",
        "# Cú pháp : df = df.drop(\"Tên cột muốn xóa\",axis = 1)\n",
        "df2 = df2.drop('Điểm',axis=1)\n",
        "print(df2)"
      ],
      "execution_count": 14,
      "outputs": [
        {
          "output_type": "stream",
          "name": "stdout",
          "text": [
            "      Tên  Tuổi\n",
            "0     Duy    20\n",
            "1     Đức    15\n",
            "2     Bùi    20\n",
            "3    Long    25\n",
            "4    Dung    30\n",
            "5    Nobi     0\n",
            "6  Chuyền    22\n",
            "7  Nguyên    33\n"
          ]
        }
      ]
    },
    {
      "cell_type": "markdown",
      "metadata": {
        "id": "ip12IKStLC8q"
      },
      "source": [
        "g) Chèn cột"
      ]
    },
    {
      "cell_type": "code",
      "metadata": {
        "id": "_HU14FQjLE76",
        "colab": {
          "base_uri": "https://localhost:8080/"
        },
        "outputId": "013feca9-8a8f-4ec1-979e-f71448816bf7"
      },
      "source": [
        "df2.insert(2, \"phái\", \"Nam\")\n",
        "print(df2)"
      ],
      "execution_count": 15,
      "outputs": [
        {
          "output_type": "stream",
          "name": "stdout",
          "text": [
            "      Tên  Tuổi phái\n",
            "0     Duy    20  Nam\n",
            "1     Đức    15  Nam\n",
            "2     Bùi    20  Nam\n",
            "3    Long    25  Nam\n",
            "4    Dung    30  Nam\n",
            "5    Nobi     0  Nam\n",
            "6  Chuyền    22  Nam\n",
            "7  Nguyên    33  Nam\n"
          ]
        }
      ]
    },
    {
      "cell_type": "markdown",
      "metadata": {
        "id": "hWLFXZkrmXez"
      },
      "source": [
        "# **CÂU 2**"
      ]
    },
    {
      "cell_type": "markdown",
      "metadata": {
        "id": "7FWwv6dVmjl-"
      },
      "source": [
        "a) Từ DataFrame, tách thành 1 DataFrame mới, có dùng hàm Group By "
      ]
    },
    {
      "cell_type": "code",
      "metadata": {
        "colab": {
          "base_uri": "https://localhost:8080/"
        },
        "id": "X7lBgtvLmbwC",
        "outputId": "638426b5-3145-4cf6-9e7b-2eb34dafbe6a"
      },
      "source": [
        "df2_tuoi = df2.groupby(\"Tuổi\")[\"Tuổi\"].agg([\"count\"])\n",
        "print(df2_tuoi)"
      ],
      "execution_count": 16,
      "outputs": [
        {
          "output_type": "stream",
          "name": "stdout",
          "text": [
            "      count\n",
            "Tuổi       \n",
            "0         1\n",
            "15        1\n",
            "20        2\n",
            "22        1\n",
            "25        1\n",
            "30        1\n",
            "33        1\n"
          ]
        }
      ]
    },
    {
      "cell_type": "markdown",
      "metadata": {
        "id": "BxV7AusLoj9_"
      },
      "source": [
        "b) Tạo Pivot_table"
      ]
    },
    {
      "cell_type": "code",
      "metadata": {
        "colab": {
          "base_uri": "https://localhost:8080/"
        },
        "id": "0tUQHhvlostI",
        "outputId": "aa944ddb-6046-478e-a7d9-186a3f1a03dd"
      },
      "source": [
        "print(pd.pivot_table(df2_tuoi,columns = \"Tuổi\"))"
      ],
      "execution_count": 17,
      "outputs": [
        {
          "output_type": "stream",
          "name": "stdout",
          "text": [
            "Tuổi   0   15  20  22  25  30  33\n",
            "count   1   1   2   1   1   1   1\n"
          ]
        }
      ]
    },
    {
      "cell_type": "markdown",
      "metadata": {
        "id": "vZWC8uf2pNyH"
      },
      "source": [
        "c) Từ pivot table vẽ đồ thị"
      ]
    },
    {
      "cell_type": "code",
      "metadata": {
        "id": "ZAfZkz2zpTwf",
        "colab": {
          "base_uri": "https://localhost:8080/",
          "height": 299
        },
        "outputId": "46487730-8393-4bf8-f362-fc723ad46341"
      },
      "source": [
        "df2_tuoi.plot.bar()"
      ],
      "execution_count": 18,
      "outputs": [
        {
          "output_type": "execute_result",
          "data": {
            "text/plain": [
              "<matplotlib.axes._subplots.AxesSubplot at 0x7fc3535f3390>"
            ]
          },
          "metadata": {},
          "execution_count": 18
        },
        {
          "output_type": "display_data",
          "data": {
            "image/png": "[encoded data removed]",
            "text/plain": [
              "<Figure size 432x288 with 1 Axes>"
            ]
          },
          "metadata": {
            "needs_background": "light"
          }
        }
      ]
    }
  ]
}