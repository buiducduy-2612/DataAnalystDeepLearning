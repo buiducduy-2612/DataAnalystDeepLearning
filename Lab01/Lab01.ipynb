{
  "nbformat": 4,
  "nbformat_minor": 0,
  "metadata": {
    "colab": {
      "name": "Lab01.ipynb",
      "provenance": [],
      "collapsed_sections": [],
      "include_colab_link": true
    },
    "kernelspec": {
      "name": "python3",
      "display_name": "Python 3"
    },
    "language_info": {
      "name": "python"
    }
  },
  "cells": [
    {
      "cell_type": "markdown",
      "metadata": {
        "id": "view-in-github",
        "colab_type": "text"
      },
      "source": [
        "<a href=\"https://colab.research.google.com/github/ducduy2612-20/THHOCSAU/blob/main/Lab01/Lab01.ipynb\" target=\"_parent\"><img src=\"https://colab.research.google.com/assets/colab-badge.svg\" alt=\"Open In Colab\"/></a>"
      ]
    },
    {
      "cell_type": "markdown",
      "metadata": {
        "id": "dLx3Nor2z-08"
      },
      "source": [
        "Ví dụ 1"
      ]
    },
    {
      "cell_type": "code",
      "metadata": {
        "id": "588y6vmZf3q8",
        "colab": {
          "base_uri": "https://localhost:8080/"
        },
        "outputId": "bf5319c8-3032-4b6d-cf3f-15d14a89525b"
      },
      "source": [
        "import pandas as pd\n",
        "s = pd.Series([12,-4,7,9])\n",
        "print (s)"
      ],
      "execution_count": null,
      "outputs": [
        {
          "output_type": "stream",
          "name": "stdout",
          "text": [
            "0    12\n",
            "1    -4\n",
            "2     7\n",
            "3     9\n",
            "dtype: int64\n"
          ]
        }
      ]
    },
    {
      "cell_type": "markdown",
      "metadata": {
        "id": "CoraJA-60DPM"
      },
      "source": [
        "Ví dụ 2"
      ]
    },
    {
      "cell_type": "code",
      "metadata": {
        "colab": {
          "base_uri": "https://localhost:8080/"
        },
        "id": "rWSS6Lx-ycOE",
        "outputId": "0b08d807-87b1-4c8a-9b03-bbf68500d630"
      },
      "source": [
        "import pandas as pd\n",
        "s = pd.Series([12,-4,7,9], index=['a', 'b', 'c', 'd'])\n",
        "print (s)"
      ],
      "execution_count": null,
      "outputs": [
        {
          "output_type": "stream",
          "name": "stdout",
          "text": [
            "a    12\n",
            "b    -4\n",
            "c     7\n",
            "d     9\n",
            "dtype: int64\n"
          ]
        }
      ]
    },
    {
      "cell_type": "markdown",
      "metadata": {
        "id": "fERaCxdQ0FmV"
      },
      "source": [
        "Ví dụ 3"
      ]
    },
    {
      "cell_type": "code",
      "metadata": {
        "colab": {
          "base_uri": "https://localhost:8080/",
          "height": 203
        },
        "id": "ThI7q6VqyiMl",
        "outputId": "a18951da-5f2f-429d-f2a4-eb934712fa98"
      },
      "source": [
        "data ={'color' : ['blue', 'green', 'yellow', 'red', 'white'],\n",
        "\t'object': ['ball', 'pen', 'pencil', 'paper', 'mug'],\n",
        "\t'price': [1.2, 1.0, 0.6,0.9,1.7]}\n",
        "frame = pd.DataFrame(data)\n",
        "frame"
      ],
      "execution_count": null,
      "outputs": [
        {
          "output_type": "execute_result",
          "data": {
            "text/html": [
              "<div>\n",
              "<style scoped>\n",
              "    .dataframe tbody tr th:only-of-type {\n",
              "        vertical-align: middle;\n",
              "    }\n",
              "\n",
              "    .dataframe tbody tr th {\n",
              "        vertical-align: top;\n",
              "    }\n",
              "\n",
              "    .dataframe thead th {\n",
              "        text-align: right;\n",
              "    }\n",
              "</style>\n",
              "<table border=\"1\" class=\"dataframe\">\n",
              "  <thead>\n",
              "    <tr style=\"text-align: right;\">\n",
              "      <th></th>\n",
              "      <th>color</th>\n",
              "      <th>object</th>\n",
              "      <th>price</th>\n",
              "    </tr>\n",
              "  </thead>\n",
              "  <tbody>\n",
              "    <tr>\n",
              "      <th>0</th>\n",
              "      <td>blue</td>\n",
              "      <td>ball</td>\n",
              "      <td>1.2</td>\n",
              "    </tr>\n",
              "    <tr>\n",
              "      <th>1</th>\n",
              "      <td>green</td>\n",
              "      <td>pen</td>\n",
              "      <td>1.0</td>\n",
              "    </tr>\n",
              "    <tr>\n",
              "      <th>2</th>\n",
              "      <td>yellow</td>\n",
              "      <td>pencil</td>\n",
              "      <td>0.6</td>\n",
              "    </tr>\n",
              "    <tr>\n",
              "      <th>3</th>\n",
              "      <td>red</td>\n",
              "      <td>paper</td>\n",
              "      <td>0.9</td>\n",
              "    </tr>\n",
              "    <tr>\n",
              "      <th>4</th>\n",
              "      <td>white</td>\n",
              "      <td>mug</td>\n",
              "      <td>1.7</td>\n",
              "    </tr>\n",
              "  </tbody>\n",
              "</table>\n",
              "</div>"
            ],
            "text/plain": [
              "    color  object  price\n",
              "0    blue    ball    1.2\n",
              "1   green     pen    1.0\n",
              "2  yellow  pencil    0.6\n",
              "3     red   paper    0.9\n",
              "4   white     mug    1.7"
            ]
          },
          "metadata": {},
          "execution_count": 3
        }
      ]
    },
    {
      "cell_type": "markdown",
      "metadata": {
        "id": "BGSvAbaY0INV"
      },
      "source": [
        "Ví dụ 4"
      ]
    },
    {
      "cell_type": "code",
      "metadata": {
        "colab": {
          "base_uri": "https://localhost:8080/",
          "height": 203
        },
        "id": "8d9HvkoXyjgY",
        "outputId": "af07cff8-4fc7-48f0-9c08-2a4def961835"
      },
      "source": [
        "frame2 = pd.DataFrame (data, columns = ['object', 'price'])\n",
        "frame2"
      ],
      "execution_count": null,
      "outputs": [
        {
          "output_type": "execute_result",
          "data": {
            "text/html": [
              "<div>\n",
              "<style scoped>\n",
              "    .dataframe tbody tr th:only-of-type {\n",
              "        vertical-align: middle;\n",
              "    }\n",
              "\n",
              "    .dataframe tbody tr th {\n",
              "        vertical-align: top;\n",
              "    }\n",
              "\n",
              "    .dataframe thead th {\n",
              "        text-align: right;\n",
              "    }\n",
              "</style>\n",
              "<table border=\"1\" class=\"dataframe\">\n",
              "  <thead>\n",
              "    <tr style=\"text-align: right;\">\n",
              "      <th></th>\n",
              "      <th>object</th>\n",
              "      <th>price</th>\n",
              "    </tr>\n",
              "  </thead>\n",
              "  <tbody>\n",
              "    <tr>\n",
              "      <th>0</th>\n",
              "      <td>ball</td>\n",
              "      <td>1.2</td>\n",
              "    </tr>\n",
              "    <tr>\n",
              "      <th>1</th>\n",
              "      <td>pen</td>\n",
              "      <td>1.0</td>\n",
              "    </tr>\n",
              "    <tr>\n",
              "      <th>2</th>\n",
              "      <td>pencil</td>\n",
              "      <td>0.6</td>\n",
              "    </tr>\n",
              "    <tr>\n",
              "      <th>3</th>\n",
              "      <td>paper</td>\n",
              "      <td>0.9</td>\n",
              "    </tr>\n",
              "    <tr>\n",
              "      <th>4</th>\n",
              "      <td>mug</td>\n",
              "      <td>1.7</td>\n",
              "    </tr>\n",
              "  </tbody>\n",
              "</table>\n",
              "</div>"
            ],
            "text/plain": [
              "   object  price\n",
              "0    ball    1.2\n",
              "1     pen    1.0\n",
              "2  pencil    0.6\n",
              "3   paper    0.9\n",
              "4     mug    1.7"
            ]
          },
          "metadata": {},
          "execution_count": 4
        }
      ]
    },
    {
      "cell_type": "markdown",
      "metadata": {
        "id": "_N5TsESI0KCc"
      },
      "source": [
        "Ví dụ 5"
      ]
    },
    {
      "cell_type": "code",
      "metadata": {
        "colab": {
          "base_uri": "https://localhost:8080/",
          "height": 203
        },
        "id": "9sd3JSZYyzmg",
        "outputId": "a50979b1-463e-428a-8114-bfbcb6805e7f"
      },
      "source": [
        "frame2['type'] ='normal'\n",
        "frame2"
      ],
      "execution_count": null,
      "outputs": [
        {
          "output_type": "execute_result",
          "data": {
            "text/html": [
              "<div>\n",
              "<style scoped>\n",
              "    .dataframe tbody tr th:only-of-type {\n",
              "        vertical-align: middle;\n",
              "    }\n",
              "\n",
              "    .dataframe tbody tr th {\n",
              "        vertical-align: top;\n",
              "    }\n",
              "\n",
              "    .dataframe thead th {\n",
              "        text-align: right;\n",
              "    }\n",
              "</style>\n",
              "<table border=\"1\" class=\"dataframe\">\n",
              "  <thead>\n",
              "    <tr style=\"text-align: right;\">\n",
              "      <th></th>\n",
              "      <th>object</th>\n",
              "      <th>price</th>\n",
              "      <th>type</th>\n",
              "    </tr>\n",
              "  </thead>\n",
              "  <tbody>\n",
              "    <tr>\n",
              "      <th>0</th>\n",
              "      <td>ball</td>\n",
              "      <td>1.2</td>\n",
              "      <td>normal</td>\n",
              "    </tr>\n",
              "    <tr>\n",
              "      <th>1</th>\n",
              "      <td>pen</td>\n",
              "      <td>1.0</td>\n",
              "      <td>normal</td>\n",
              "    </tr>\n",
              "    <tr>\n",
              "      <th>2</th>\n",
              "      <td>pencil</td>\n",
              "      <td>0.6</td>\n",
              "      <td>normal</td>\n",
              "    </tr>\n",
              "    <tr>\n",
              "      <th>3</th>\n",
              "      <td>paper</td>\n",
              "      <td>0.9</td>\n",
              "      <td>normal</td>\n",
              "    </tr>\n",
              "    <tr>\n",
              "      <th>4</th>\n",
              "      <td>mug</td>\n",
              "      <td>1.7</td>\n",
              "      <td>normal</td>\n",
              "    </tr>\n",
              "  </tbody>\n",
              "</table>\n",
              "</div>"
            ],
            "text/plain": [
              "   object  price    type\n",
              "0    ball    1.2  normal\n",
              "1     pen    1.0  normal\n",
              "2  pencil    0.6  normal\n",
              "3   paper    0.9  normal\n",
              "4     mug    1.7  normal"
            ]
          },
          "metadata": {},
          "execution_count": 5
        }
      ]
    },
    {
      "cell_type": "markdown",
      "metadata": {
        "id": "dYqP0z1S0OkN"
      },
      "source": [
        "Ví dụ 6"
      ]
    },
    {
      "cell_type": "code",
      "metadata": {
        "colab": {
          "base_uri": "https://localhost:8080/",
          "height": 203
        },
        "id": "xXpoIt-cy1-X",
        "outputId": "c6d987ac-1159-4bb6-e288-91a68f486d39"
      },
      "source": [
        "for i in range(len(frame2)):\n",
        "  if frame2['price'][i] > 1.0:\n",
        "    frame2.loc[i, 'type'] = 'good'\n",
        "frame2"
      ],
      "execution_count": null,
      "outputs": [
        {
          "output_type": "execute_result",
          "data": {
            "text/html": [
              "<div>\n",
              "<style scoped>\n",
              "    .dataframe tbody tr th:only-of-type {\n",
              "        vertical-align: middle;\n",
              "    }\n",
              "\n",
              "    .dataframe tbody tr th {\n",
              "        vertical-align: top;\n",
              "    }\n",
              "\n",
              "    .dataframe thead th {\n",
              "        text-align: right;\n",
              "    }\n",
              "</style>\n",
              "<table border=\"1\" class=\"dataframe\">\n",
              "  <thead>\n",
              "    <tr style=\"text-align: right;\">\n",
              "      <th></th>\n",
              "      <th>object</th>\n",
              "      <th>price</th>\n",
              "      <th>type</th>\n",
              "    </tr>\n",
              "  </thead>\n",
              "  <tbody>\n",
              "    <tr>\n",
              "      <th>0</th>\n",
              "      <td>ball</td>\n",
              "      <td>1.2</td>\n",
              "      <td>good</td>\n",
              "    </tr>\n",
              "    <tr>\n",
              "      <th>1</th>\n",
              "      <td>pen</td>\n",
              "      <td>1.0</td>\n",
              "      <td>normal</td>\n",
              "    </tr>\n",
              "    <tr>\n",
              "      <th>2</th>\n",
              "      <td>pencil</td>\n",
              "      <td>0.6</td>\n",
              "      <td>normal</td>\n",
              "    </tr>\n",
              "    <tr>\n",
              "      <th>3</th>\n",
              "      <td>paper</td>\n",
              "      <td>0.9</td>\n",
              "      <td>normal</td>\n",
              "    </tr>\n",
              "    <tr>\n",
              "      <th>4</th>\n",
              "      <td>mug</td>\n",
              "      <td>1.7</td>\n",
              "      <td>good</td>\n",
              "    </tr>\n",
              "  </tbody>\n",
              "</table>\n",
              "</div>"
            ],
            "text/plain": [
              "   object  price    type\n",
              "0    ball    1.2    good\n",
              "1     pen    1.0  normal\n",
              "2  pencil    0.6  normal\n",
              "3   paper    0.9  normal\n",
              "4     mug    1.7    good"
            ]
          },
          "metadata": {},
          "execution_count": 6
        }
      ]
    },
    {
      "cell_type": "markdown",
      "metadata": {
        "id": "VaC8aZxr0U8t"
      },
      "source": [
        "Ví dụ 7"
      ]
    },
    {
      "cell_type": "code",
      "metadata": {
        "colab": {
          "base_uri": "https://localhost:8080/",
          "height": 203
        },
        "id": "UyUW7ftby4hf",
        "outputId": "90a767ef-11e1-4504-eaa2-257b26fac640"
      },
      "source": [
        "frame2['discount'] = frame2['price']*0.02\n",
        "frame2"
      ],
      "execution_count": null,
      "outputs": [
        {
          "output_type": "execute_result",
          "data": {
            "text/html": [
              "<div>\n",
              "<style scoped>\n",
              "    .dataframe tbody tr th:only-of-type {\n",
              "        vertical-align: middle;\n",
              "    }\n",
              "\n",
              "    .dataframe tbody tr th {\n",
              "        vertical-align: top;\n",
              "    }\n",
              "\n",
              "    .dataframe thead th {\n",
              "        text-align: right;\n",
              "    }\n",
              "</style>\n",
              "<table border=\"1\" class=\"dataframe\">\n",
              "  <thead>\n",
              "    <tr style=\"text-align: right;\">\n",
              "      <th></th>\n",
              "      <th>object</th>\n",
              "      <th>price</th>\n",
              "      <th>type</th>\n",
              "      <th>discount</th>\n",
              "    </tr>\n",
              "  </thead>\n",
              "  <tbody>\n",
              "    <tr>\n",
              "      <th>0</th>\n",
              "      <td>ball</td>\n",
              "      <td>1.2</td>\n",
              "      <td>good</td>\n",
              "      <td>0.024</td>\n",
              "    </tr>\n",
              "    <tr>\n",
              "      <th>1</th>\n",
              "      <td>pen</td>\n",
              "      <td>1.0</td>\n",
              "      <td>normal</td>\n",
              "      <td>0.020</td>\n",
              "    </tr>\n",
              "    <tr>\n",
              "      <th>2</th>\n",
              "      <td>pencil</td>\n",
              "      <td>0.6</td>\n",
              "      <td>normal</td>\n",
              "      <td>0.012</td>\n",
              "    </tr>\n",
              "    <tr>\n",
              "      <th>3</th>\n",
              "      <td>paper</td>\n",
              "      <td>0.9</td>\n",
              "      <td>normal</td>\n",
              "      <td>0.018</td>\n",
              "    </tr>\n",
              "    <tr>\n",
              "      <th>4</th>\n",
              "      <td>mug</td>\n",
              "      <td>1.7</td>\n",
              "      <td>good</td>\n",
              "      <td>0.034</td>\n",
              "    </tr>\n",
              "  </tbody>\n",
              "</table>\n",
              "</div>"
            ],
            "text/plain": [
              "   object  price    type  discount\n",
              "0    ball    1.2    good     0.024\n",
              "1     pen    1.0  normal     0.020\n",
              "2  pencil    0.6  normal     0.012\n",
              "3   paper    0.9  normal     0.018\n",
              "4     mug    1.7    good     0.034"
            ]
          },
          "metadata": {},
          "execution_count": 7
        }
      ]
    },
    {
      "cell_type": "markdown",
      "metadata": {
        "id": "w0JyiQD80XC8"
      },
      "source": [
        "Ví dụ 8"
      ]
    },
    {
      "cell_type": "code",
      "metadata": {
        "colab": {
          "base_uri": "https://localhost:8080/",
          "height": 203
        },
        "id": "AqvvlZP_y7Dm",
        "outputId": "45692f37-96e4-4283-9c05-93f84dcc601b"
      },
      "source": [
        "frame2['price_afterdiscount'] = frame2['price'] - frame2['discount']\n",
        "frame2"
      ],
      "execution_count": null,
      "outputs": [
        {
          "output_type": "execute_result",
          "data": {
            "text/html": [
              "<div>\n",
              "<style scoped>\n",
              "    .dataframe tbody tr th:only-of-type {\n",
              "        vertical-align: middle;\n",
              "    }\n",
              "\n",
              "    .dataframe tbody tr th {\n",
              "        vertical-align: top;\n",
              "    }\n",
              "\n",
              "    .dataframe thead th {\n",
              "        text-align: right;\n",
              "    }\n",
              "</style>\n",
              "<table border=\"1\" class=\"dataframe\">\n",
              "  <thead>\n",
              "    <tr style=\"text-align: right;\">\n",
              "      <th></th>\n",
              "      <th>object</th>\n",
              "      <th>price</th>\n",
              "      <th>type</th>\n",
              "      <th>discount</th>\n",
              "      <th>price_afterdiscount</th>\n",
              "    </tr>\n",
              "  </thead>\n",
              "  <tbody>\n",
              "    <tr>\n",
              "      <th>0</th>\n",
              "      <td>ball</td>\n",
              "      <td>1.2</td>\n",
              "      <td>good</td>\n",
              "      <td>0.024</td>\n",
              "      <td>1.176</td>\n",
              "    </tr>\n",
              "    <tr>\n",
              "      <th>1</th>\n",
              "      <td>pen</td>\n",
              "      <td>1.0</td>\n",
              "      <td>normal</td>\n",
              "      <td>0.020</td>\n",
              "      <td>0.980</td>\n",
              "    </tr>\n",
              "    <tr>\n",
              "      <th>2</th>\n",
              "      <td>pencil</td>\n",
              "      <td>0.6</td>\n",
              "      <td>normal</td>\n",
              "      <td>0.012</td>\n",
              "      <td>0.588</td>\n",
              "    </tr>\n",
              "    <tr>\n",
              "      <th>3</th>\n",
              "      <td>paper</td>\n",
              "      <td>0.9</td>\n",
              "      <td>normal</td>\n",
              "      <td>0.018</td>\n",
              "      <td>0.882</td>\n",
              "    </tr>\n",
              "    <tr>\n",
              "      <th>4</th>\n",
              "      <td>mug</td>\n",
              "      <td>1.7</td>\n",
              "      <td>good</td>\n",
              "      <td>0.034</td>\n",
              "      <td>1.666</td>\n",
              "    </tr>\n",
              "  </tbody>\n",
              "</table>\n",
              "</div>"
            ],
            "text/plain": [
              "   object  price    type  discount  price_afterdiscount\n",
              "0    ball    1.2    good     0.024                1.176\n",
              "1     pen    1.0  normal     0.020                0.980\n",
              "2  pencil    0.6  normal     0.012                0.588\n",
              "3   paper    0.9  normal     0.018                0.882\n",
              "4     mug    1.7    good     0.034                1.666"
            ]
          },
          "metadata": {},
          "execution_count": 8
        }
      ]
    },
    {
      "cell_type": "markdown",
      "metadata": {
        "id": "nHBS93up0YuV"
      },
      "source": [
        "Ví dụ 9"
      ]
    },
    {
      "cell_type": "code",
      "metadata": {
        "colab": {
          "base_uri": "https://localhost:8080/"
        },
        "id": "AY5-G3mLzeZf",
        "outputId": "0d7ca98b-fb50-48ff-a7af-5ecb64a99762"
      },
      "source": [
        "import pandas as pd\n",
        "dulieuxettuyen = pd.read_csv(\"https://raw.githubusercontent.com/huynhhoc/DataAnalystDeepLearning/main/Data/dulieuxettuyendaihoc.csv\")\n",
        "print (dulieuxettuyen.head(10))"
      ],
      "execution_count": null,
      "outputs": [
        {
          "output_type": "stream",
          "name": "stdout",
          "text": [
            "   STT   T1   L1   H1   S1   V1   X1  ...  GT  DT   KV   DH1   DH2   DH3  KT\n",
            "0    1  7.2  7.3  6.3  7.3  7.0  7.9  ...   F NaN  2NT  3.25  3.25  4.50  A1\n",
            "1    2  5.4  3.9  3.9  4.0  5.4  5.4  ...   M NaN    1  6.00  4.00  3.50   C\n",
            "2    3  5.6  6.8  7.2  7.5  4.3  7.4  ...   M NaN    1  5.00  6.75  4.00   C\n",
            "3    4  6.6  6.4  5.3  6.9  5.4  7.3  ...   M NaN    1  4.25  4.25  5.25  D1\n",
            "4    5  6.0  5.0  6.0  7.3  6.5  7.7  ...   M NaN  2NT  4.25  4.50  5.00   A\n",
            "5    6  9.3  7.6  7.9  8.6  7.0  7.3  ...   M NaN    1  1.50  4.00  6.00  D1\n",
            "6    7  2.8  3.9  5.5  6.9  5.0  7.3  ...   F NaN    2  6.50  6.75  5.25   C\n",
            "7    8  8.3  6.0  7.6  5.1  7.5  4.7  ...   F NaN    2  3.75  4.50  4.25  D1\n",
            "8    9  6.5  6.3  7.6  6.0  5.5  7.1  ...   F NaN    1  3.50  3.50  6.75  D1\n",
            "9   10  7.3  5.9  4.7  7.1  6.7  7.9  ...   F NaN    1  4.00  4.75  5.50  D1\n",
            "\n",
            "[10 rows x 56 columns]\n"
          ]
        }
      ]
    },
    {
      "cell_type": "code",
      "metadata": {
        "colab": {
          "base_uri": "https://localhost:8080/"
        },
        "id": "oWxdgRrpzmDe",
        "outputId": "43ca45dd-2f9a-4d40-84e7-09ec41f2bde2"
      },
      "source": [
        "import pandas as pd\n",
        "heartDisease = pd.read_csv(\"https://raw.githubusercontent.com/huynhhoc/DataAnalystDeepLearning/main/Data/dulieuxettuyendaihoc.csv\", header = None)\n",
        "print (heartDisease)"
      ],
      "execution_count": null,
      "outputs": [
        {
          "output_type": "stream",
          "name": "stdout",
          "text": [
            "      0    1    2    3    4    5    6   ...  49   50   51    52    53    54  55\n",
            "0    STT   T1   L1   H1   S1   V1   X1  ...  GT   DT   KV   DH1   DH2   DH3  KT\n",
            "1      1  7.2  7.3  6.3  7.3    7  7.9  ...   F  NaN  2NT  3.25  3.25   4.5  A1\n",
            "2      2  5.4  3.9  3.9    4  5.4  5.4  ...   M  NaN    1     6     4   3.5   C\n",
            "3      3  5.6  6.8  7.2  7.5  4.3  7.4  ...   M  NaN    1     5  6.75     4   C\n",
            "4      4  6.6  6.4  5.3  6.9  5.4  7.3  ...   M  NaN    1  4.25  4.25  5.25  D1\n",
            "..   ...  ...  ...  ...  ...  ...  ...  ...  ..  ...  ...   ...   ...   ...  ..\n",
            "96    96  8.6  6.9  7.4  8.8  7.6  5.8  ...   F  NaN    1  5.25   1.5  6.25   C\n",
            "97    97  3.7  5.4    6  5.1  5.5  3.9  ...   F  NaN    1  5.25  3.75  4.75   C\n",
            "98    98  8.8  5.5  7.4  7.7  6.2  7.3  ...   M  NaN  2NT     7     8     4   C\n",
            "99    99  2.7  1.8  3.4  5.3  4.5  7.9  ...   M  NaN    1     5   3.5   5.5   C\n",
            "100  100  4.1  5.2  4.9  5.3  5.5  5.4  ...   M  NaN  2NT  5.25   2.5  4.25   C\n",
            "\n",
            "[101 rows x 56 columns]\n"
          ]
        }
      ]
    },
    {
      "cell_type": "markdown",
      "metadata": {
        "id": "S7284UlZ1KV9"
      },
      "source": [
        "Ví dụ 10"
      ]
    },
    {
      "cell_type": "code",
      "metadata": {
        "colab": {
          "base_uri": "https://localhost:8080/"
        },
        "id": "E1UA0G-U1J--",
        "outputId": "5a31bcff-d842-419a-c6ca-f73e67767c58"
      },
      "source": [
        "import pandas as pd\n",
        "import numpy as np\n",
        "frame = pd.DataFrame(np.arange(16).reshape(4,4),\n",
        "\t\tindex =['white', 'black', 'red','blue'],\n",
        "\t\tcolumns =['up', 'down', 'right', 'left'])\n",
        "frame.to_json('frame.json')\n",
        "#Read json-formatted data\n",
        "jsonFrame = pd.read_json('frame.json')\n",
        "print(jsonFrame)"
      ],
      "execution_count": null,
      "outputs": [
        {
          "output_type": "stream",
          "name": "stdout",
          "text": [
            "       up  down  right  left\n",
            "white   0     1      2     3\n",
            "black   4     5      6     7\n",
            "red     8     9     10    11\n",
            "blue   12    13     14    15\n"
          ]
        }
      ]
    },
    {
      "cell_type": "markdown",
      "metadata": {
        "id": "ibqBX-kn2hPG"
      },
      "source": [
        "Ví dụ 11"
      ]
    },
    {
      "cell_type": "code",
      "metadata": {
        "colab": {
          "base_uri": "https://localhost:8080/"
        },
        "id": "JG78XkLO2jcV",
        "outputId": "36a7faab-30bb-4fd3-94b5-27b67c6cd1b0"
      },
      "source": [
        "import pandas as pd\n",
        "example11 = pd.read_table('https://raw.githubusercontent.com/huynhhoc/DataAnalystDeepLearning/main/Data/example11.txt', sep='\\D+', header=None, engine='python')\n",
        "print (example11)"
      ],
      "execution_count": null,
      "outputs": [
        {
          "output_type": "stream",
          "name": "stdout",
          "text": [
            "   0    1    2\n",
            "0  0  123  122\n",
            "1  1  124  321\n",
            "2  2  125  333\n"
          ]
        }
      ]
    },
    {
      "cell_type": "markdown",
      "metadata": {
        "id": "Hg52PYhO2mgF"
      },
      "source": [
        "Ví dụ 12"
      ]
    },
    {
      "cell_type": "code",
      "metadata": {
        "colab": {
          "base_uri": "https://localhost:8080/"
        },
        "id": "U5FsZQpd2q-2",
        "outputId": "737c4f5e-e07b-4012-b2cc-cdb3c189b3f4"
      },
      "source": [
        "import pandas as pd\n",
        "example12 = pd.read_table('https://raw.githubusercontent.com/huynhhoc/DataAnalystDeepLearning/main/Data/example12.txt', sep=',', skiprows=[0,1,3,6])\n",
        "print (example12)"
      ],
      "execution_count": null,
      "outputs": [
        {
          "output_type": "stream",
          "name": "stdout",
          "text": [
            "   white  red  blue  green animal\n",
            "0      1    5     2      3    cat\n",
            "1      2    7     8      5    dog\n",
            "2      3    3     6      7  horse\n",
            "3      2    2     8      3   duck\n",
            "4      4    4     2      1  mouse\n"
          ]
        }
      ]
    },
    {
      "cell_type": "markdown",
      "metadata": {
        "id": "ZvgOVrNT2t3F"
      },
      "source": [
        "Ví dụ 13"
      ]
    },
    {
      "cell_type": "code",
      "metadata": {
        "colab": {
          "base_uri": "https://localhost:8080/"
        },
        "id": "cjjmuwWc2v01",
        "outputId": "a2fcd8b5-068b-4910-b538-cc3840bc5130"
      },
      "source": [
        "import pandas as pd\n",
        "example13 = pd.read_table('https://raw.githubusercontent.com/huynhhoc/DataAnalystDeepLearning/main/Data/example13.txt', skiprows=[2], nrows=3)\n",
        "print (example13)"
      ],
      "execution_count": null,
      "outputs": [
        {
          "output_type": "stream",
          "name": "stdout",
          "text": [
            "  white,red,blue,green,animal\n",
            "0                 1,5,2,3,cat\n",
            "1               3,3,6,7,horse\n",
            "2                2,2,8,3,duck\n"
          ]
        }
      ]
    },
    {
      "cell_type": "markdown",
      "metadata": {
        "id": "Qw1TYihH24uF"
      },
      "source": [
        "Ví dụ 14"
      ]
    },
    {
      "cell_type": "code",
      "metadata": {
        "colab": {
          "base_uri": "https://localhost:8080/"
        },
        "id": "NSuW520U263N",
        "outputId": "019fdf6a-4f93-4a24-e2a9-7200b0a3e94f"
      },
      "source": [
        "import pandas as pd\n",
        "import numpy as np\n",
        "frame = pd.DataFrame(np.arange(16).reshape(4,4),index = ['red', 'blue', 'yellow','white'],columns = ['ball', 'pen', 'pencil', 'paper'])\n",
        "print(frame)"
      ],
      "execution_count": null,
      "outputs": [
        {
          "output_type": "stream",
          "name": "stdout",
          "text": [
            "        ball  pen  pencil  paper\n",
            "red        0    1       2      3\n",
            "blue       4    5       6      7\n",
            "yellow     8    9      10     11\n",
            "white     12   13      14     15\n"
          ]
        }
      ]
    },
    {
      "cell_type": "code",
      "metadata": {
        "colab": {
          "base_uri": "https://localhost:8080/"
        },
        "id": "qY2B1SPi3ACF",
        "outputId": "44f55b86-293c-4cce-db79-7532d8045ac2"
      },
      "source": [
        "newframe = pd.DataFrame(frame, columns=['paper','pen'])\n",
        "print(newframe)"
      ],
      "execution_count": null,
      "outputs": [
        {
          "output_type": "stream",
          "name": "stdout",
          "text": [
            "        paper  pen\n",
            "red         3    1\n",
            "blue        7    5\n",
            "yellow     11    9\n",
            "white      15   13\n"
          ]
        }
      ]
    },
    {
      "cell_type": "code",
      "metadata": {
        "id": "ami2Bemn3AxN"
      },
      "source": [
        ""
      ],
      "execution_count": null,
      "outputs": []
    },
    {
      "cell_type": "code",
      "metadata": {
        "colab": {
          "base_uri": "https://localhost:8080/"
        },
        "id": "panJRPIM3DJd",
        "outputId": "2e554357-548f-4182-91f7-cbab0a834681"
      },
      "source": [
        "filteredFrame = frame[frame < 11]\n",
        "print(filteredFrame)"
      ],
      "execution_count": null,
      "outputs": [
        {
          "output_type": "stream",
          "name": "stdout",
          "text": [
            "        ball  pen  pencil  paper\n",
            "red      0.0  1.0     2.0    3.0\n",
            "blue     4.0  5.0     6.0    7.0\n",
            "yellow   8.0  9.0    10.0    NaN\n",
            "white    NaN  NaN     NaN    NaN\n"
          ]
        }
      ]
    },
    {
      "cell_type": "markdown",
      "metadata": {
        "id": "iPQ2CijX28A1"
      },
      "source": [
        "Ví dụ 15"
      ]
    },
    {
      "cell_type": "code",
      "metadata": {
        "colab": {
          "base_uri": "https://localhost:8080/"
        },
        "id": "QaiIgXi_3HkG",
        "outputId": "8644871a-d5d0-4d5c-c043-d937fcc95ffa"
      },
      "source": [
        "dropAllNaNFrame = filteredFrame.dropna()\n",
        "print (dropAllNaNFrame)"
      ],
      "execution_count": null,
      "outputs": [
        {
          "output_type": "stream",
          "name": "stdout",
          "text": [
            "      ball  pen  pencil  paper\n",
            "red    0.0  1.0     2.0    3.0\n",
            "blue   4.0  5.0     6.0    7.0\n"
          ]
        }
      ]
    },
    {
      "cell_type": "markdown",
      "metadata": {
        "id": "TPzLovUh3KFQ"
      },
      "source": [
        "Ví dụ 16"
      ]
    },
    {
      "cell_type": "code",
      "metadata": {
        "colab": {
          "base_uri": "https://localhost:8080/"
        },
        "id": "qVejescS3LO3",
        "outputId": "ce0c0670-c184-46a0-d1d8-1006c440316f"
      },
      "source": [
        "dropNaNAllFrame = filteredFrame.dropna(how='all')\n",
        "print(dropNaNAllFrame)"
      ],
      "execution_count": null,
      "outputs": [
        {
          "output_type": "stream",
          "name": "stdout",
          "text": [
            "        ball  pen  pencil  paper\n",
            "red      0.0  1.0     2.0    3.0\n",
            "blue     4.0  5.0     6.0    7.0\n",
            "yellow   8.0  9.0    10.0    NaN\n"
          ]
        }
      ]
    },
    {
      "cell_type": "markdown",
      "metadata": {
        "id": "tc2D0WE73P91"
      },
      "source": [
        "Ví dụ 17"
      ]
    },
    {
      "cell_type": "code",
      "metadata": {
        "colab": {
          "base_uri": "https://localhost:8080/"
        },
        "id": "w7MUMy6y3Spt",
        "outputId": "2cb6917f-a4b3-4194-d705-13f1317fb10b"
      },
      "source": [
        "filteredFrame.isnull().sum()"
      ],
      "execution_count": null,
      "outputs": [
        {
          "output_type": "execute_result",
          "data": {
            "text/plain": [
              "ball      1\n",
              "pen       1\n",
              "pencil    1\n",
              "paper     2\n",
              "dtype: int64"
            ]
          },
          "metadata": {},
          "execution_count": 20
        }
      ]
    },
    {
      "cell_type": "markdown",
      "metadata": {
        "id": "ifm1lVzm3UsV"
      },
      "source": [
        "Ví dụ 18"
      ]
    },
    {
      "cell_type": "code",
      "metadata": {
        "colab": {
          "base_uri": "https://localhost:8080/"
        },
        "id": "a2S_qvXg3dMV",
        "outputId": "dfb43906-fab4-4382-a5b0-eb404ba14287"
      },
      "source": [
        "print (filteredFrame)"
      ],
      "execution_count": null,
      "outputs": [
        {
          "output_type": "stream",
          "name": "stdout",
          "text": [
            "        ball  pen  pencil  paper\n",
            "red      0.0  1.0     2.0    3.0\n",
            "blue     4.0  5.0     6.0    7.0\n",
            "yellow   8.0  9.0    10.0    NaN\n",
            "white    NaN  NaN     NaN    NaN\n"
          ]
        }
      ]
    },
    {
      "cell_type": "code",
      "metadata": {
        "colab": {
          "base_uri": "https://localhost:8080/"
        },
        "id": "AQAP_npx3nbF",
        "outputId": "961d7cc1-e5c3-4549-8916-b05f6832d356"
      },
      "source": [
        "fillnazeroFrame = filteredFrame.fillna(0)\n",
        "print(fillnazeroFrame)"
      ],
      "execution_count": null,
      "outputs": [
        {
          "output_type": "stream",
          "name": "stdout",
          "text": [
            "        ball  pen  pencil  paper\n",
            "red      0.0  1.0     2.0    3.0\n",
            "blue     4.0  5.0     6.0    7.0\n",
            "yellow   8.0  9.0    10.0    0.0\n",
            "white    0.0  0.0     0.0    0.0\n"
          ]
        }
      ]
    },
    {
      "cell_type": "markdown",
      "metadata": {
        "id": "4QCJvLxm3jKt"
      },
      "source": [
        "Ví dụ 19"
      ]
    },
    {
      "cell_type": "code",
      "metadata": {
        "colab": {
          "base_uri": "https://localhost:8080/"
        },
        "id": "UDbkl5IP49Hm",
        "outputId": "fedc7ee5-4424-4840-a91d-3dac2fd09eac"
      },
      "source": [
        "from google.colab import drive\n",
        "drive.mount('/drive')"
      ],
      "execution_count": null,
      "outputs": [
        {
          "output_type": "stream",
          "name": "stdout",
          "text": [
            "Mounted at /drive\n"
          ]
        }
      ]
    },
    {
      "cell_type": "code",
      "metadata": {
        "id": "O1uRynUe5Qp-"
      },
      "source": [
        "frame.to_csv('/drive/My Drive/DataAnalyst/lab01_example8.csv')"
      ],
      "execution_count": null,
      "outputs": []
    },
    {
      "cell_type": "markdown",
      "metadata": {
        "id": "-SXLFPHZ6JfJ"
      },
      "source": [
        "**Bài tập về nhà**"
      ]
    },
    {
      "cell_type": "code",
      "metadata": {
        "colab": {
          "base_uri": "https://localhost:8080/"
        },
        "id": "kErh_Uz45-D5",
        "outputId": "7d8595bd-d4b6-45e4-f474-b5e360f8f3ad"
      },
      "source": [
        "import pandas as pd\n",
        "df = pd.read_csv(\"https://raw.githubusercontent.com/huynhhoc/DataAnalystDeepLearning/main/Data/dulieuxettuyendaihoc.csv\", index_col = \"STT\")\n",
        "print(df)"
      ],
      "execution_count": null,
      "outputs": [
        {
          "output_type": "stream",
          "name": "stdout",
          "text": [
            "      T1   L1   H1   S1   V1   X1   D1  ...  GT  DT   KV   DH1   DH2   DH3  KT\n",
            "STT                                     ...                                   \n",
            "1    7.2  7.3  6.3  7.3  7.0  7.9  7.3  ...   F NaN  2NT  3.25  3.25  4.50  A1\n",
            "2    5.4  3.9  3.9  4.0  5.4  5.4  5.3  ...   M NaN    1  6.00  4.00  3.50   C\n",
            "3    5.6  6.8  7.2  7.5  4.3  7.4  5.8  ...   M NaN    1  5.00  6.75  4.00   C\n",
            "4    6.6  6.4  5.3  6.9  5.4  7.3  6.4  ...   M NaN    1  4.25  4.25  5.25  D1\n",
            "5    6.0  5.0  6.0  7.3  6.5  7.7  7.9  ...   M NaN  2NT  4.25  4.50  5.00   A\n",
            "..   ...  ...  ...  ...  ...  ...  ...  ...  ..  ..  ...   ...   ...   ...  ..\n",
            "96   8.6  6.9  7.4  8.8  7.6  5.8  7.3  ...   F NaN    1  5.25  1.50  6.25   C\n",
            "97   3.7  5.4  6.0  5.1  5.5  3.9  6.1  ...   F NaN    1  5.25  3.75  4.75   C\n",
            "98   8.8  5.5  7.4  7.7  6.2  7.3  8.1  ...   M NaN  2NT  7.00  8.00  4.00   C\n",
            "99   2.7  1.8  3.4  5.3  4.5  7.9  4.9  ...   M NaN    1  5.00  3.50  5.50   C\n",
            "100  4.1  5.2  4.9  5.3  5.5  5.4  7.2  ...   M NaN  2NT  5.25  2.50  4.25   C\n",
            "\n",
            "[100 rows x 55 columns]\n"
          ]
        }
      ]
    },
    {
      "cell_type": "code",
      "metadata": {
        "id": "SaZrMAa1qL4q",
        "colab": {
          "base_uri": "https://localhost:8080/"
        },
        "outputId": "c299f9e0-0e1e-4db8-cd29-0184ec579da2"
      },
      "source": [
        "def fill(col):\n",
        "  return df[col].fillna(df[col], inplace = True)\n",
        "print(df.dtypes)"
      ],
      "execution_count": null,
      "outputs": [
        {
          "output_type": "stream",
          "name": "stdout",
          "text": [
            "T1     float64\n",
            "L1     float64\n",
            "H1     float64\n",
            "S1     float64\n",
            "V1     float64\n",
            "X1     float64\n",
            "D1     float64\n",
            "N1     float64\n",
            "T2     float64\n",
            "L2     float64\n",
            "H2     float64\n",
            "S2     float64\n",
            "V2     float64\n",
            "X2     float64\n",
            "D2     float64\n",
            "N2     float64\n",
            "T3     float64\n",
            "L3     float64\n",
            "H3     float64\n",
            "S3     float64\n",
            "V3     float64\n",
            "X3     float64\n",
            "D3     float64\n",
            "N3     float64\n",
            "T4     float64\n",
            "L4     float64\n",
            "H4     float64\n",
            "S4     float64\n",
            "V4     float64\n",
            "X4     float64\n",
            "D4     float64\n",
            "N4     float64\n",
            "T5     float64\n",
            "L5     float64\n",
            "H5     float64\n",
            "S5     float64\n",
            "V5     float64\n",
            "X5     float64\n",
            "D5     float64\n",
            "N5     float64\n",
            "T6     float64\n",
            "L6     float64\n",
            "H6     float64\n",
            "S6     float64\n",
            "V6     float64\n",
            "X6     float64\n",
            "D6     float64\n",
            "N6     float64\n",
            "GT      object\n",
            "DT     float64\n",
            "KV      object\n",
            "DH1    float64\n",
            "DH2    float64\n",
            "DH3    float64\n",
            "KT      object\n",
            "dtype: object\n"
          ]
        }
      ]
    },
    {
      "cell_type": "markdown",
      "metadata": {
        "id": "ex_M6u0PsURN"
      },
      "source": [
        "3.Sử dụng Python để tải dữ liệu lên chương trình và in ra màn hình 10 dòng đầu tiên và 10 dòng cuối cùng"
      ]
    },
    {
      "cell_type": "code",
      "metadata": {
        "colab": {
          "base_uri": "https://localhost:8080/"
        },
        "id": "EO00eu5CsbNe",
        "outputId": "cc5b4374-d7d5-4396-cf38-7e0327afed45"
      },
      "source": [
        "print(df.head(10))"
      ],
      "execution_count": null,
      "outputs": [
        {
          "output_type": "stream",
          "name": "stdout",
          "text": [
            "      T1   L1   H1   S1   V1   X1   D1  ...  GT  DT   KV   DH1   DH2   DH3  KT\n",
            "STT                                     ...                                   \n",
            "1    7.2  7.3  6.3  7.3  7.0  7.9  7.3  ...   F NaN  2NT  3.25  3.25  4.50  A1\n",
            "2    5.4  3.9  3.9  4.0  5.4  5.4  5.3  ...   M NaN    1  6.00  4.00  3.50   C\n",
            "3    5.6  6.8  7.2  7.5  4.3  7.4  5.8  ...   M NaN    1  5.00  6.75  4.00   C\n",
            "4    6.6  6.4  5.3  6.9  5.4  7.3  6.4  ...   M NaN    1  4.25  4.25  5.25  D1\n",
            "5    6.0  5.0  6.0  7.3  6.5  7.7  7.9  ...   M NaN  2NT  4.25  4.50  5.00   A\n",
            "6    9.3  7.6  7.9  8.6  7.0  7.3  7.7  ...   M NaN    1  1.50  4.00  6.00  D1\n",
            "7    2.8  3.9  5.5  6.9  5.0  7.3  4.6  ...   F NaN    2  6.50  6.75  5.25   C\n",
            "8    8.3  6.0  7.6  5.1  7.5  4.7  5.8  ...   F NaN    2  3.75  4.50  4.25  D1\n",
            "9    6.5  6.3  7.6  6.0  5.5  7.1  6.3  ...   F NaN    1  3.50  3.50  6.75  D1\n",
            "10   7.3  5.9  4.7  7.1  6.7  7.9  6.7  ...   F NaN    1  4.00  4.75  5.50  D1\n",
            "\n",
            "[10 rows x 55 columns]\n"
          ]
        }
      ]
    },
    {
      "cell_type": "code",
      "metadata": {
        "colab": {
          "base_uri": "https://localhost:8080/"
        },
        "id": "AwvbwSaLlLWP",
        "outputId": "033a0f86-b25c-4131-92eb-f76df21c96a1"
      },
      "source": [
        "print(df.tail(10))"
      ],
      "execution_count": null,
      "outputs": [
        {
          "output_type": "stream",
          "name": "stdout",
          "text": [
            "      T1   L1   H1   S1   V1   X1   D1  ...  GT  DT   KV   DH1   DH2   DH3  KT\n",
            "STT                                     ...                                   \n",
            "91   8.1  7.7  9.1  8.5  6.1  8.6  8.8  ...   M NaN    2  6.25  4.00  6.50   A\n",
            "92   7.8  6.5  6.7  5.4  6.2  4.8  5.9  ...   M NaN  2NT  4.75  4.75  4.50   A\n",
            "93   5.0  6.6  6.5  7.2  5.8  6.7  6.4  ...   M NaN    1  3.25  5.25  4.25   A\n",
            "94   5.2  5.2  6.8  7.9  6.6  8.9  7.6  ...   M NaN    1  3.50  4.25  5.00   A\n",
            "95   5.8  5.9  7.6  6.1  5.3  8.1  6.1  ...   M NaN    1  4.25  2.50  4.75   A\n",
            "96   8.6  6.9  7.4  8.8  7.6  5.8  7.3  ...   F NaN    1  5.25  1.50  6.25   C\n",
            "97   3.7  5.4  6.0  5.1  5.5  3.9  6.1  ...   F NaN    1  5.25  3.75  4.75   C\n",
            "98   8.8  5.5  7.4  7.7  6.2  7.3  8.1  ...   M NaN  2NT  7.00  8.00  4.00   C\n",
            "99   2.7  1.8  3.4  5.3  4.5  7.9  4.9  ...   M NaN    1  5.00  3.50  5.50   C\n",
            "100  4.1  5.2  4.9  5.3  5.5  5.4  7.2  ...   M NaN  2NT  5.25  2.50  4.25   C\n",
            "\n",
            "[10 rows x 55 columns]\n"
          ]
        }
      ]
    },
    {
      "cell_type": "markdown",
      "metadata": {
        "id": "QvbPUT881FH9"
      },
      "source": [
        "4.Thống kê dữ liệu thiếu cho cột dân tộc và hiệu chỉnh dữ liệu thiếu như sau: Mặc định thiếu thì điền giá trị 0."
      ]
    },
    {
      "cell_type": "code",
      "metadata": {
        "colab": {
          "base_uri": "https://localhost:8080/"
        },
        "id": "i5cJ3VEO1Fe0",
        "outputId": "c8ccf246-462e-4dd4-f6fe-707bda16614b"
      },
      "source": [
        "df['DT'].fillna(0, inplace = True)\n",
        "print(df)"
      ],
      "execution_count": null,
      "outputs": [
        {
          "output_type": "stream",
          "name": "stdout",
          "text": [
            "      T1   L1   H1   S1   V1   X1   D1  ...  GT   DT   KV   DH1   DH2   DH3  KT\n",
            "STT                                     ...                                    \n",
            "1    7.2  7.3  6.3  7.3  7.0  7.9  7.3  ...   F  0.0  2NT  3.25  3.25  4.50  A1\n",
            "2    5.4  3.9  3.9  4.0  5.4  5.4  5.3  ...   M  0.0    1  6.00  4.00  3.50   C\n",
            "3    5.6  6.8  7.2  7.5  4.3  7.4  5.8  ...   M  0.0    1  5.00  6.75  4.00   C\n",
            "4    6.6  6.4  5.3  6.9  5.4  7.3  6.4  ...   M  0.0    1  4.25  4.25  5.25  D1\n",
            "5    6.0  5.0  6.0  7.3  6.5  7.7  7.9  ...   M  0.0  2NT  4.25  4.50  5.00   A\n",
            "..   ...  ...  ...  ...  ...  ...  ...  ...  ..  ...  ...   ...   ...   ...  ..\n",
            "96   8.6  6.9  7.4  8.8  7.6  5.8  7.3  ...   F  0.0    1  5.25  1.50  6.25   C\n",
            "97   3.7  5.4  6.0  5.1  5.5  3.9  6.1  ...   F  0.0    1  5.25  3.75  4.75   C\n",
            "98   8.8  5.5  7.4  7.7  6.2  7.3  8.1  ...   M  0.0  2NT  7.00  8.00  4.00   C\n",
            "99   2.7  1.8  3.4  5.3  4.5  7.9  4.9  ...   M  0.0    1  5.00  3.50  5.50   C\n",
            "100  4.1  5.2  4.9  5.3  5.5  5.4  7.2  ...   M  0.0  2NT  5.25  2.50  4.25   C\n",
            "\n",
            "[100 rows x 55 columns]\n"
          ]
        }
      ]
    },
    {
      "cell_type": "markdown",
      "metadata": {
        "id": "yP4ML6VqoGic"
      },
      "source": [
        "5.Thống kê dữ liệu thiếu cho biến T1 và hiệu chỉnh dữ liệu, lưu ý việc thay thế dữ liệu thiếu sử\n",
        "dụng phương pháp Mean."
      ]
    },
    {
      "cell_type": "code",
      "metadata": {
        "colab": {
          "base_uri": "https://localhost:8080/"
        },
        "id": "Xn1vh-IgoJw0",
        "outputId": "8e6a9c7a-2920-4e2a-aac5-2b7b82cb166b"
      },
      "source": [
        "df[\"T1\"].fillna(df[\"T1\"].mean(), inplace =True)\n",
        "print(df)"
      ],
      "execution_count": null,
      "outputs": [
        {
          "output_type": "stream",
          "name": "stdout",
          "text": [
            "      T1   L1   H1   S1   V1   X1   D1  ...  GT   DT   KV   DH1   DH2   DH3  KT\n",
            "STT                                     ...                                    \n",
            "1    7.2  7.3  6.3  7.3  7.0  7.9  7.3  ...   F  0.0  2NT  3.25  3.25  4.50  A1\n",
            "2    5.4  3.9  3.9  4.0  5.4  5.4  5.3  ...   M  0.0    1  6.00  4.00  3.50   C\n",
            "3    5.6  6.8  7.2  7.5  4.3  7.4  5.8  ...   M  0.0    1  5.00  6.75  4.00   C\n",
            "4    6.6  6.4  5.3  6.9  5.4  7.3  6.4  ...   M  0.0    1  4.25  4.25  5.25  D1\n",
            "5    6.0  5.0  6.0  7.3  6.5  7.7  7.9  ...   M  0.0  2NT  4.25  4.50  5.00   A\n",
            "..   ...  ...  ...  ...  ...  ...  ...  ...  ..  ...  ...   ...   ...   ...  ..\n",
            "96   8.6  6.9  7.4  8.8  7.6  5.8  7.3  ...   F  0.0    1  5.25  1.50  6.25   C\n",
            "97   3.7  5.4  6.0  5.1  5.5  3.9  6.1  ...   F  0.0    1  5.25  3.75  4.75   C\n",
            "98   8.8  5.5  7.4  7.7  6.2  7.3  8.1  ...   M  0.0  2NT  7.00  8.00  4.00   C\n",
            "99   2.7  1.8  3.4  5.3  4.5  7.9  4.9  ...   M  0.0    1  5.00  3.50  5.50   C\n",
            "100  4.1  5.2  4.9  5.3  5.5  5.4  7.2  ...   M  0.0  2NT  5.25  2.50  4.25   C\n",
            "\n",
            "[100 rows x 55 columns]\n"
          ]
        }
      ]
    },
    {
      "cell_type": "markdown",
      "metadata": {
        "id": "kH7rOPE8oc8Z"
      },
      "source": [
        "6.Hãy thực hiện xử lý lần lượt tất cả dữ liệu thiếu cho các biến về điểm số còn lại"
      ]
    },
    {
      "cell_type": "code",
      "metadata": {
        "id": "8fNfPkW9pEfV"
      },
      "source": [
        "is_float64 = df.dtypes == float\n",
        "df_column_list = df.columns[is_float64].tolist()"
      ],
      "execution_count": null,
      "outputs": []
    },
    {
      "cell_type": "code",
      "metadata": {
        "colab": {
          "base_uri": "https://localhost:8080/"
        },
        "id": "cDYDzhLGpHGq",
        "outputId": "b72b0089-ef5c-4b87-8cbb-d14a42d0aafc"
      },
      "source": [
        "df_column_list"
      ],
      "execution_count": null,
      "outputs": [
        {
          "output_type": "execute_result",
          "data": {
            "text/plain": [
              "['T1',\n",
              " 'L1',\n",
              " 'H1',\n",
              " 'S1',\n",
              " 'V1',\n",
              " 'X1',\n",
              " 'D1',\n",
              " 'N1',\n",
              " 'T2',\n",
              " 'L2',\n",
              " 'H2',\n",
              " 'S2',\n",
              " 'V2',\n",
              " 'X2',\n",
              " 'D2',\n",
              " 'N2',\n",
              " 'T3',\n",
              " 'L3',\n",
              " 'H3',\n",
              " 'S3',\n",
              " 'V3',\n",
              " 'X3',\n",
              " 'D3',\n",
              " 'N3',\n",
              " 'T4',\n",
              " 'L4',\n",
              " 'H4',\n",
              " 'S4',\n",
              " 'V4',\n",
              " 'X4',\n",
              " 'D4',\n",
              " 'N4',\n",
              " 'T5',\n",
              " 'L5',\n",
              " 'H5',\n",
              " 'S5',\n",
              " 'V5',\n",
              " 'X5',\n",
              " 'D5',\n",
              " 'N5',\n",
              " 'T6',\n",
              " 'L6',\n",
              " 'H6',\n",
              " 'S6',\n",
              " 'V6',\n",
              " 'X6',\n",
              " 'D6',\n",
              " 'N6',\n",
              " 'DT',\n",
              " 'DH1',\n",
              " 'DH2',\n",
              " 'DH3']"
            ]
          },
          "metadata": {},
          "execution_count": 32
        }
      ]
    },
    {
      "cell_type": "code",
      "metadata": {
        "colab": {
          "base_uri": "https://localhost:8080/"
        },
        "id": "_HCiXgk2of-c",
        "outputId": "0fbbc2d3-5158-4fb5-9cdb-e4f37bee6b12"
      },
      "source": [
        "for col in df_column_list:\n",
        "  df[col].fillna(df[col].mean(), inplace =True)\n",
        "print(df)"
      ],
      "execution_count": null,
      "outputs": [
        {
          "output_type": "stream",
          "name": "stdout",
          "text": [
            "      T1   L1   H1   S1   V1   X1   D1  ...  GT   DT   KV   DH1   DH2   DH3  KT\n",
            "STT                                     ...                                    \n",
            "1    7.2  7.3  6.3  7.3  7.0  7.9  7.3  ...   F  0.0  2NT  3.25  3.25  4.50  A1\n",
            "2    5.4  3.9  3.9  4.0  5.4  5.4  5.3  ...   M  0.0    1  6.00  4.00  3.50   C\n",
            "3    5.6  6.8  7.2  7.5  4.3  7.4  5.8  ...   M  0.0    1  5.00  6.75  4.00   C\n",
            "4    6.6  6.4  5.3  6.9  5.4  7.3  6.4  ...   M  0.0    1  4.25  4.25  5.25  D1\n",
            "5    6.0  5.0  6.0  7.3  6.5  7.7  7.9  ...   M  0.0  2NT  4.25  4.50  5.00   A\n",
            "..   ...  ...  ...  ...  ...  ...  ...  ...  ..  ...  ...   ...   ...   ...  ..\n",
            "96   8.6  6.9  7.4  8.8  7.6  5.8  7.3  ...   F  0.0    1  5.25  1.50  6.25   C\n",
            "97   3.7  5.4  6.0  5.1  5.5  3.9  6.1  ...   F  0.0    1  5.25  3.75  4.75   C\n",
            "98   8.8  5.5  7.4  7.7  6.2  7.3  8.1  ...   M  0.0  2NT  7.00  8.00  4.00   C\n",
            "99   2.7  1.8  3.4  5.3  4.5  7.9  4.9  ...   M  0.0    1  5.00  3.50  5.50   C\n",
            "100  4.1  5.2  4.9  5.3  5.5  5.4  7.2  ...   M  0.0  2NT  5.25  2.50  4.25   C\n",
            "\n",
            "[100 rows x 55 columns]\n"
          ]
        }
      ]
    },
    {
      "cell_type": "markdown",
      "metadata": {
        "id": "qPEo6i6Apr1U"
      },
      "source": [
        "7.   Tạo các biến TBM1, TBM2, TBM3 tương ứng với trung bình môn của các năm lớp 10, 11 và 12."
      ]
    },
    {
      "cell_type": "code",
      "metadata": {
        "id": "qoyH79bjpbP1"
      },
      "source": [
        "#Công thức tính: TBM = (T*2 + L + H + S + V*2 + X + D + N) / 10"
      ],
      "execution_count": null,
      "outputs": []
    },
    {
      "cell_type": "code",
      "metadata": {
        "id": "0hUCnBo1qOXG"
      },
      "source": [
        "for i in ['1', '2', '6']:\n",
        "  df['TBM' + i] = (df['T'+i] * 2 + df['L' + i] + df['H' + i] + df['S' + i] + df['V' + i] * 2 + df['X' + i] + df['D' + i] + df['N' + i]) / 10"
      ],
      "execution_count": null,
      "outputs": []
    },
    {
      "cell_type": "code",
      "metadata": {
        "id": "lDXyLkp2qdqb"
      },
      "source": [
        "df.rename(columns={\"TBM6\":\"TBM3\"}, inplace = True)"
      ],
      "execution_count": null,
      "outputs": []
    },
    {
      "cell_type": "code",
      "metadata": {
        "colab": {
          "base_uri": "https://localhost:8080/"
        },
        "id": "4U1XM-V2spZ0",
        "outputId": "675eb9e5-296a-45b8-9414-be04f94bf01c"
      },
      "source": [
        "print(df)"
      ],
      "execution_count": null,
      "outputs": [
        {
          "output_type": "stream",
          "name": "stdout",
          "text": [
            "      T1   L1   H1   S1   V1   X1   D1  ...   DH1   DH2   DH3  KT  TBM1  TBM2  TBM3\n",
            "STT                                     ...                                        \n",
            "1    7.2  7.3  6.3  7.3  7.0  7.9  7.3  ...  3.25  3.25  4.50  A1  7.00  7.54  7.01\n",
            "2    5.4  3.9  3.9  4.0  5.4  5.4  5.3  ...  6.00  4.00  3.50   C  4.69  5.47  5.07\n",
            "3    5.6  6.8  7.2  7.5  4.3  7.4  5.8  ...  5.00  6.75  4.00   C  5.77  5.38  6.04\n",
            "4    6.6  6.4  5.3  6.9  5.4  7.3  6.4  ...  4.25  4.25  5.25  D1  6.21  5.20  6.88\n",
            "5    6.0  5.0  6.0  7.3  6.5  7.7  7.9  ...  4.25  4.50  5.00   A  6.50  6.36  6.99\n",
            "..   ...  ...  ...  ...  ...  ...  ...  ...   ...   ...   ...  ..   ...   ...   ...\n",
            "96   8.6  6.9  7.4  8.8  7.6  5.8  7.3  ...  5.25  1.50  6.25   C  7.43  7.42  6.83\n",
            "97   3.7  5.4  6.0  5.1  5.5  3.9  6.1  ...  5.25  3.75  4.75   C  4.93  5.15  6.39\n",
            "98   8.8  5.5  7.4  7.7  6.2  7.3  8.1  ...  7.00  8.00  4.00   C  7.05  7.84  7.67\n",
            "99   2.7  1.8  3.4  5.3  4.5  7.9  4.9  ...  5.00  3.50  5.50   C  4.15  4.72  5.29\n",
            "100  4.1  5.2  4.9  5.3  5.5  5.4  7.2  ...  5.25  2.50  4.25   C  5.26  5.72  5.85\n",
            "\n",
            "[100 rows x 58 columns]\n"
          ]
        }
      ]
    },
    {
      "cell_type": "markdown",
      "metadata": {
        "id": "gg8hLZCpuXh2"
      },
      "source": [
        "8.Tạo các biến xếp loại XL1, XL2 và XL3 dựa trên TBM1,TBM2 và TBM3 cho từng năm lớp\n",
        "10, 11, 12 như sau:"
      ]
    },
    {
      "cell_type": "markdown",
      "metadata": {
        "id": "-mVqbBvsuhbc"
      },
      "source": [
        "*   Nhỏ hơn 5.0 xếp loại: yếu (kí hiệu là Y)\n",
        "*   Từ 5.0 đến dưới 6.5: trung bình (kí hiệu là TB)\n",
        "*   Từ 6.5 đến dưới 8.0: khá (kí hiệu là K)\n",
        "*   Từ 8.0 đến dưới 9.0: giỏi (kí hiệu là G)\n",
        "*   Từ 9.0 trở lên: xuất sắc (kí hiệu là XS)"
      ]
    },
    {
      "cell_type": "code",
      "metadata": {
        "id": "NEUdEmoyugcs"
      },
      "source": [
        "for i in ['1','2','3']:\n",
        "  df.loc[df['TBM' + i] < 5, 'XL' + i] = 'Y'\n",
        "  df.loc[(df['TBM'+i] <= 6.5) &(df['TBM'+i] > 5), 'XL' + i] = 'TB'\n",
        "  df.loc[(df['TBM'+i] < 8) &(df['TBM'+i] >= 6.5), 'XL'+i] = 'K' \n",
        "  df.loc[(df['TBM'+i] < 9) &(df['TBM'+i] >=8), 'XL'+i] = 'G' \n",
        "  df.loc[(df['TBM'+i] >= 9), 'XL'+i] = 'XS'"
      ],
      "execution_count": null,
      "outputs": []
    },
    {
      "cell_type": "code",
      "metadata": {
        "colab": {
          "base_uri": "https://localhost:8080/"
        },
        "id": "rVPRlfXXxV_M",
        "outputId": "7904a8a1-5a40-4d89-e1e4-1af34d2347ab"
      },
      "source": [
        "print(df)"
      ],
      "execution_count": null,
      "outputs": [
        {
          "output_type": "stream",
          "name": "stdout",
          "text": [
            "      T1   L1   H1   S1   V1   X1   D1  ...  KT  TBM1  TBM2  TBM3  XL1  XL2  XL3\n",
            "STT                                     ...                                     \n",
            "1    7.2  7.3  6.3  7.3  7.0  7.9  7.3  ...  A1  7.00  7.54  7.01    K    K    K\n",
            "2    5.4  3.9  3.9  4.0  5.4  5.4  5.3  ...   C  4.69  5.47  5.07    Y   TB   TB\n",
            "3    5.6  6.8  7.2  7.5  4.3  7.4  5.8  ...   C  5.77  5.38  6.04   TB   TB   TB\n",
            "4    6.6  6.4  5.3  6.9  5.4  7.3  6.4  ...  D1  6.21  5.20  6.88   TB   TB    K\n",
            "5    6.0  5.0  6.0  7.3  6.5  7.7  7.9  ...   A  6.50  6.36  6.99    K   TB    K\n",
            "..   ...  ...  ...  ...  ...  ...  ...  ...  ..   ...   ...   ...  ...  ...  ...\n",
            "96   8.6  6.9  7.4  8.8  7.6  5.8  7.3  ...   C  7.43  7.42  6.83    K    K    K\n",
            "97   3.7  5.4  6.0  5.1  5.5  3.9  6.1  ...   C  4.93  5.15  6.39    Y   TB   TB\n",
            "98   8.8  5.5  7.4  7.7  6.2  7.3  8.1  ...   C  7.05  7.84  7.67    K    K    K\n",
            "99   2.7  1.8  3.4  5.3  4.5  7.9  4.9  ...   C  4.15  4.72  5.29    Y    Y   TB\n",
            "100  4.1  5.2  4.9  5.3  5.5  5.4  7.2  ...   C  5.26  5.72  5.85   TB   TB   TB\n",
            "\n",
            "[100 rows x 61 columns]\n"
          ]
        }
      ]
    },
    {
      "cell_type": "markdown",
      "metadata": {
        "id": "TgLZqw81xcPz"
      },
      "source": [
        "9.Tạo các biến US_TBM1, US_TBM2 và US_TBM3 để chuyển điểm trung bình các năm lớp\n",
        "10, 11 và 12 từ thang điểm 10 của Việt Nam sang thang điểm 4 của Mỹ. Sử dụng phương\n",
        "pháp Min-Max Normalization"
      ]
    },
    {
      "cell_type": "code",
      "metadata": {
        "id": "jOcQwKO_xdXE"
      },
      "source": [
        "for i in [\"1\",\"2\",\"3\"]:\n",
        "    df[\"US_TBM\"+i] = (df[\"TBM\"+i]/10) *4"
      ],
      "execution_count": null,
      "outputs": []
    },
    {
      "cell_type": "code",
      "metadata": {
        "colab": {
          "base_uri": "https://localhost:8080/"
        },
        "id": "cwfUR_8dxunk",
        "outputId": "045cc92f-ab53-4726-a581-04f81f968ff6"
      },
      "source": [
        "print(df)"
      ],
      "execution_count": null,
      "outputs": [
        {
          "output_type": "stream",
          "name": "stdout",
          "text": [
            "      T1   L1   H1   S1   V1   X1  ...  XL1  XL2  XL3  US_TBM1  US_TBM2  US_TBM3\n",
            "STT                                ...                                          \n",
            "1    7.2  7.3  6.3  7.3  7.0  7.9  ...    K    K    K    2.800    3.016    2.804\n",
            "2    5.4  3.9  3.9  4.0  5.4  5.4  ...    Y   TB   TB    1.876    2.188    2.028\n",
            "3    5.6  6.8  7.2  7.5  4.3  7.4  ...   TB   TB   TB    2.308    2.152    2.416\n",
            "4    6.6  6.4  5.3  6.9  5.4  7.3  ...   TB   TB    K    2.484    2.080    2.752\n",
            "5    6.0  5.0  6.0  7.3  6.5  7.7  ...    K   TB    K    2.600    2.544    2.796\n",
            "..   ...  ...  ...  ...  ...  ...  ...  ...  ...  ...      ...      ...      ...\n",
            "96   8.6  6.9  7.4  8.8  7.6  5.8  ...    K    K    K    2.972    2.968    2.732\n",
            "97   3.7  5.4  6.0  5.1  5.5  3.9  ...    Y   TB   TB    1.972    2.060    2.556\n",
            "98   8.8  5.5  7.4  7.7  6.2  7.3  ...    K    K    K    2.820    3.136    3.068\n",
            "99   2.7  1.8  3.4  5.3  4.5  7.9  ...    Y    Y   TB    1.660    1.888    2.116\n",
            "100  4.1  5.2  4.9  5.3  5.5  5.4  ...   TB   TB   TB    2.104    2.288    2.340\n",
            "\n",
            "[100 rows x 64 columns]\n"
          ]
        }
      ]
    },
    {
      "cell_type": "markdown",
      "metadata": {
        "id": "J5fX2rEHza2E"
      },
      "source": [
        "10.Tạo biến kết quả xét tuyển (kí hiệu là KQXT) nhằm xác định sinh viên đậu (giá trị \"1\") và\n",
        "rớt ( giá trị \"0\") vào các khối dựa trên điểm DH1, DH2 và DH3 như sau"
      ]
    },
    {
      "cell_type": "markdown",
      "metadata": {
        "id": "1_-SqYwwzfVq"
      },
      "source": [
        "\n",
        "\n",
        "*   Với khối A, A1 nếu [(DH1*2 + DH2 + DH3)/4] lớn hơn hoặc bằng 5.0 thì đậu,\n",
        "ngược lại là rớt\n",
        "*   Với khối B nếu [(DH1 + DH2*2 + DH3)/4] lớn hơn hoặc bằng 5.0 thì đậu, ngược\n",
        "lại là rớt\n",
        "\n",
        "*   Với khối khác nếu [(DH1+ DH2 + DH3)/3] lớn hơn hoặc bằng 5.0 thì đậu, ngược\n",
        "lại là rớt\n",
        "\n",
        "\n",
        "\n"
      ]
    },
    {
      "cell_type": "code",
      "metadata": {
        "id": "thGQDLnezpoZ"
      },
      "source": [
        "for i in df['KT']:\n",
        "  str(i)\n",
        "  df.loc[(i == 'A' or i == 'A1') & ((df['DH1'] * 2 + df['DH2'] + df['DH3']) / 4 >= 5.0), 'KQXT'] = 'đậu'\n",
        "  df.loc[(i == 'A' or i == 'Ađậu') & ((df['DH1'] * 2 + df['DH2'] + df['DH3']) / 4 < 5.0), 'KQXT'] = 'rớt'\n",
        "\n",
        "  df.loc[(i == 'B') & ((df['DH1'] + df['DH2'] * 2 + df['DH3']) / 4 >= 5.0), 'KQXT'] = 'đậu'\n",
        "  df.loc[(i == 'B') & ((df['DH1'] + df['DH2'] * 2 + df['DH3']) / 4 < 5.0), 'KQXT'] = 'rớt'\n",
        "          \n",
        "  df.loc[(i != 'B' or i != 'A' or i != 'A1') & ((df['DH1'] + df['DH2']+ df['DH3']) / 3 >= 5.0), 'KQXT'] = 'đậu'\n",
        "  df.loc[(i != 'B' or i != 'A' or i != 'A1') & ((df['DH1'] + df['DH2']+ df['DH3']) / 3 < 5.0), 'KQXT'] = 'rớt'"
      ],
      "execution_count": null,
      "outputs": []
    },
    {
      "cell_type": "code",
      "metadata": {
        "colab": {
          "base_uri": "https://localhost:8080/"
        },
        "id": "JVZBosfi2R1t",
        "outputId": "0f8c899b-0360-4a2e-ff0e-dd6160262483"
      },
      "source": [
        "print(df)"
      ],
      "execution_count": null,
      "outputs": [
        {
          "output_type": "stream",
          "name": "stdout",
          "text": [
            "      T1   L1   H1   S1   V1   X1  ...  XL2  XL3  US_TBM1  US_TBM2  US_TBM3  KQXT\n",
            "STT                                ...                                           \n",
            "1    7.2  7.3  6.3  7.3  7.0  7.9  ...    K    K    2.800    3.016    2.804   rớt\n",
            "2    5.4  3.9  3.9  4.0  5.4  5.4  ...   TB   TB    1.876    2.188    2.028   rớt\n",
            "3    5.6  6.8  7.2  7.5  4.3  7.4  ...   TB   TB    2.308    2.152    2.416   đậu\n",
            "4    6.6  6.4  5.3  6.9  5.4  7.3  ...   TB    K    2.484    2.080    2.752   rớt\n",
            "5    6.0  5.0  6.0  7.3  6.5  7.7  ...   TB    K    2.600    2.544    2.796   rớt\n",
            "..   ...  ...  ...  ...  ...  ...  ...  ...  ...      ...      ...      ...   ...\n",
            "96   8.6  6.9  7.4  8.8  7.6  5.8  ...    K    K    2.972    2.968    2.732   rớt\n",
            "97   3.7  5.4  6.0  5.1  5.5  3.9  ...   TB   TB    1.972    2.060    2.556   rớt\n",
            "98   8.8  5.5  7.4  7.7  6.2  7.3  ...    K    K    2.820    3.136    3.068   đậu\n",
            "99   2.7  1.8  3.4  5.3  4.5  7.9  ...    Y   TB    1.660    1.888    2.116   rớt\n",
            "100  4.1  5.2  4.9  5.3  5.5  5.4  ...   TB   TB    2.104    2.288    2.340   rớt\n",
            "\n",
            "[100 rows x 65 columns]\n"
          ]
        }
      ]
    },
    {
      "cell_type": "markdown",
      "metadata": {
        "id": "tZQXtVxx4Wak"
      },
      "source": [
        "11.Lưu trữ dữ liệu xuống ổ đĩa thành file processed_dulieuxettuyendaihoc.csv"
      ]
    },
    {
      "cell_type": "code",
      "metadata": {
        "colab": {
          "base_uri": "https://localhost:8080/"
        },
        "id": "D83ugTck4TA8",
        "outputId": "dac07fc7-e5a9-4a24-a91d-e13a0fb2168d"
      },
      "source": [
        "from google.colab import drive\n",
        "drive.mount('/drive')"
      ],
      "execution_count": null,
      "outputs": [
        {
          "output_type": "stream",
          "name": "stdout",
          "text": [
            "Drive already mounted at /drive; to attempt to forcibly remount, call drive.mount(\"/drive\", force_remount=True).\n"
          ]
        }
      ]
    },
    {
      "cell_type": "code",
      "metadata": {
        "id": "t5tNLQ0n4YhI"
      },
      "source": [
        "df.to_csv('/drive/My Drive/DataAnalyst/processed_dulieuxettuyendaihoc.csv')"
      ],
      "execution_count": null,
      "outputs": []
    }
  ]
}